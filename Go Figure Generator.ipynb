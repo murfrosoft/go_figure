{
 "cells": [
  {
   "cell_type": "code",
   "execution_count": 1,
   "metadata": {},
   "outputs": [],
   "source": [
    "import random"
   ]
  },
  {
   "cell_type": "code",
   "execution_count": 2,
   "metadata": {},
   "outputs": [],
   "source": [
    "def make_number_set():\n",
    "    start = [1,2,3,4,5,6,7,8,9]\n",
    "    random.shuffle(start)\n",
    "    start[0] = start[-1]\n",
    "    random.shuffle(start)\n",
    "    return start"
   ]
  },
  {
   "cell_type": "code",
   "execution_count": 49,
   "metadata": {},
   "outputs": [],
   "source": [
    "def solve(a, b, op):\n",
    "    if op is '+':\n",
    "        return a + b\n",
    "    elif op is '-':\n",
    "        return a - b\n",
    "    elif op is '*':\n",
    "        return a * b\n",
    "    elif op is '/':\n",
    "        return a / b\n",
    "    else:\n",
    "        return None\n",
    "    \n",
    "def minisolve(a, b, c):\n",
    "    ops1 = ['+','-','*','/']\n",
    "    random.shuffle(ops1)\n",
    "    ops2 = ['+','-','*','/']\n",
    "    random.shuffle(ops2)\n",
    "    for o1 in ops1:\n",
    "        for o2 in ops2:\n",
    "            res1 = solve(a,b,o1)\n",
    "            if res1 <= 0 or res1 % 1 != 0:\n",
    "                continue\n",
    "            res2 = solve(res1,c,o2)\n",
    "            if res2 <= 0 or res2 % 1 != 0 or res2 > 99:\n",
    "                continue\n",
    "            return (o1,o2)\n",
    "    return None"
   ]
  },
  {
   "cell_type": "code",
   "execution_count": 50,
   "metadata": {},
   "outputs": [],
   "source": [
    "def math_facts( s ):\n",
    "    ops = '+-*/'\n",
    "    solutions = []\n",
    "    for a in s:\n",
    "        setB = s.copy()\n",
    "        setB.remove(a)\n",
    "        for b in setB:\n",
    "            setC = setB.copy()\n",
    "            setC.remove(b)\n",
    "            for c in setC:\n",
    "                for op1 in ops:\n",
    "                    for op2 in ops:\n",
    "                        res = solve(a,b,op1)\n",
    "                        if res <= 0 or res % 1 != 0:\n",
    "                            continue\n",
    "                        res2 = solve(res,c,op2)\n",
    "                        if res2 <= 0 or res2 % 1 != 0 or res2 > 99:\n",
    "                            continue\n",
    "                        solutions.append((a,b,c,op1,op2))\n",
    "                        #print(a,op1,b,op2,c,'=',res2)    \n",
    "    random.shuffle(solutions)\n",
    "    return solutions[0]"
   ]
  },
  {
   "cell_type": "code",
   "execution_count": 120,
   "metadata": {},
   "outputs": [],
   "source": [
    "def row_print(row, solution = False):\n",
    "    ''' expecting data in form (a, b, c, op1, op2)'''\n",
    "    if len(row) != 5:\n",
    "        return\n",
    "    sol = solve(solve(row[0], row[1], row[3]), row[2], row[4])\n",
    "    if solution:\n",
    "        print('_%d_  %s  _%d_  %s  _%d_  =  %d' %(row[0], row[3], row[1], row[4], row[2], sol))\n",
    "    else:\n",
    "        print('___  %s  ___  %s  ___  =  %d' %(row[3], row[4], sol))\n",
    "\n",
    "def row_make(row, solution = False):\n",
    "    ''' return result as a string '''\n",
    "    if len(row) != 5:\n",
    "        return\n",
    "    sol = solve(solve(row[0], row[1], row[3]), row[2], row[4])\n",
    "    if solution:\n",
    "        return '_%d_  %s  _%d_  %s  _%d_  =  %d\\n' %(row[0], row[3], row[1], row[4], row[2], sol)\n",
    "    else:\n",
    "        return '___  %s  ___  %s  ___  =  %d\\n' %(row[3], row[4], sol)"
   ]
  },
  {
   "cell_type": "code",
   "execution_count": 121,
   "metadata": {},
   "outputs": [],
   "source": [
    "def op_print(row, solution = False):\n",
    "    if not solution:\n",
    "        print('\\n %s       %s       %s\\n' %(row[0],row[1],row[2]))\n",
    "    else:\n",
    "        print('\\n=%2d     =%2d     =%2d' %(row[0],row[1],row[2]))\n",
    "        \n",
    "def op_make(row, solution = False):\n",
    "    ''' return result as a string '''\n",
    "    if not solution:\n",
    "        return '\\n %s       %s       %s\\n\\n' %(row[0],row[1],row[2])\n",
    "    else:\n",
    "        return '\\n=%2d     =%2d     =%2d\\n' %(row[0],row[1],row[2])"
   ]
  },
  {
   "cell_type": "code",
   "execution_count": 95,
   "metadata": {},
   "outputs": [],
   "source": [
    "def difficulty(solution, numbers):\n",
    "    count = 0\n",
    "    for a in numbers:\n",
    "        setb = numbers.copy()\n",
    "        setb.remove(a)\n",
    "        for b in setb:\n",
    "            setc = setb.copy()\n",
    "            setc.remove(b)\n",
    "            for c in setc:\n",
    "                ans = solve(solve(solution[0],solution[1],solution[3]),solution[2],solution[4])\n",
    "                test = solve(solve(a,b,solution[3]),c,solution[4])\n",
    "                if ans == test:\n",
    "                    count += 1\n",
    "                    #print(a,solution[3],b,solution[4],c,'=',test)\n",
    "    return count"
   ]
  },
  {
   "cell_type": "code",
   "execution_count": 127,
   "metadata": {},
   "outputs": [],
   "source": [
    "def make_game():\n",
    "    solution = False\n",
    "    numbers = make_number_set()\n",
    "    sol1 = math_facts(numbers[:3])\n",
    "    sol2 = math_facts(numbers[3:6])\n",
    "    sol3 = math_facts(numbers[6:])\n",
    "    op1 = minisolve(sol1[0],sol2[0],sol3[0])\n",
    "    op2 = minisolve(sol1[1],sol2[1],sol3[1])\n",
    "    op3 = minisolve(sol1[2],sol2[2],sol3[2])\n",
    "    ans1 = solve(solve(sol1[0],sol2[0],op1[0]),sol3[0],op1[1])\n",
    "    ans2 = solve(solve(sol1[1],sol2[1],op2[0]),sol3[1],op2[1])\n",
    "    ans3 = solve(solve(sol1[2],sol2[2],op3[0]),sol3[2],op3[1])\n",
    "\n",
    "    # calculate difficulty\n",
    "    diff = difficulty(sol1,numbers)\n",
    "    diff += difficulty(sol2,numbers)\n",
    "    diff += difficulty(sol3,numbers)\n",
    "    diff += difficulty((sol1[0],sol2[0],sol3[0],op1[0],op1[1]),numbers)\n",
    "    diff += difficulty((sol1[1],sol2[1],sol3[1],op2[0],op2[1]),numbers)\n",
    "    diff += difficulty((sol1[2],sol2[2],sol3[2],op3[0],op3[1]),numbers)\n",
    "    output = 'Difficulty Rating: %d\\n\\n' %(diff//30)\n",
    "\n",
    "    # print puzzle\n",
    "    output += row_make(sol1, solution)\n",
    "    output += op_make([op1[0],op2[0],op3[0]])\n",
    "    output += row_make(sol2, solution)\n",
    "    output += op_make([op1[1],op2[1],op3[1]])\n",
    "    output += row_make(sol3, solution)\n",
    "    output += op_make([ans1,ans2,ans3], True)\n",
    "    \n",
    "    # prepare solution\n",
    "    solution = True\n",
    "    sol = row_make(sol1, solution)\n",
    "    sol += op_make([op1[0],op2[0],op3[0]])\n",
    "    sol += row_make(sol2, solution)\n",
    "    sol += op_make([op1[1],op2[1],op3[1]])\n",
    "    sol += row_make(sol3, solution)\n",
    "    sol += op_make([ans1,ans2,ans3], True)\n",
    "\n",
    "    numbers.sort()\n",
    "    output += '\\n\\n%s' %(str(numbers)[1:-1])\n",
    "    return output, sol"
   ]
  },
  {
   "cell_type": "code",
   "execution_count": 128,
   "metadata": {},
   "outputs": [
    {
     "name": "stdout",
     "output_type": "stream",
     "text": [
      "Difficulty Rating: 3\n",
      "\n",
      "___  +  ___  -  ___  =  2\n",
      "\n",
      " -       +       /\n",
      "\n",
      "___  +  ___  -  ___  =  13\n",
      "\n",
      " *       *       -\n",
      "\n",
      "___  *  ___  +  ___  =  7\n",
      "\n",
      "= 4     =12     = 1\n",
      "\n",
      "\n",
      "1, 2, 3, 3, 4, 6, 7, 8, 9\n"
     ]
    }
   ],
   "source": [
    "game, solution = make_game()\n",
    "print(game)"
   ]
  },
  {
   "cell_type": "code",
   "execution_count": 129,
   "metadata": {},
   "outputs": [
    {
     "name": "stdout",
     "output_type": "stream",
     "text": [
      "_7_  +  _3_  -  _8_  =  2\n",
      "\n",
      " -       +       /\n",
      "\n",
      "_6_  +  _9_  -  _2_  =  13\n",
      "\n",
      " *       *       -\n",
      "\n",
      "_4_  *  _1_  +  _3_  =  7\n",
      "\n",
      "= 4     =12     = 1\n",
      "\n"
     ]
    }
   ],
   "source": [
    "print(solution)"
   ]
  },
  {
   "cell_type": "code",
   "execution_count": null,
   "metadata": {},
   "outputs": [],
   "source": []
  }
 ],
 "metadata": {
  "kernelspec": {
   "display_name": "Python 3",
   "language": "python",
   "name": "python3"
  },
  "language_info": {
   "codemirror_mode": {
    "name": "ipython",
    "version": 3
   },
   "file_extension": ".py",
   "mimetype": "text/x-python",
   "name": "python",
   "nbconvert_exporter": "python",
   "pygments_lexer": "ipython3",
   "version": "3.7.3"
  }
 },
 "nbformat": 4,
 "nbformat_minor": 2
}
